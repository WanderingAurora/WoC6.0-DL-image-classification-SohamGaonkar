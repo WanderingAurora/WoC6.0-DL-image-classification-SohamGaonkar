{
  "nbformat": 4,
  "nbformat_minor": 0,
  "metadata": {
    "colab": {
      "provenance": []
    },
    "kernelspec": {
      "name": "python3",
      "display_name": "Python 3"
    },
    "language_info": {
      "name": "python"
    }
  },
  "cells": [
    {
      "cell_type": "code",
      "execution_count": null,
      "metadata": {
        "colab": {
          "base_uri": "https://localhost:8080/"
        },
        "id": "X1G884rxiyr_",
        "outputId": "f5577638-88e0-448d-8a51-82347a6f7713"
      },
      "outputs": [
        {
          "output_type": "stream",
          "name": "stdout",
          "text": [
            "ones:\n",
            " [[1. 1. 1. 1. 1.]\n",
            " [1. 1. 1. 1. 1.]\n",
            " [1. 1. 1. 1. 1.]\n",
            " [1. 1. 1. 1. 1.]\n",
            " [1. 1. 1. 1. 1.]]\n",
            "zeros:\n",
            " [[0. 0. 0.]\n",
            " [0. 0. 0.]\n",
            " [0. 0. 0.]]\n",
            "zeros:\n",
            " [[False False False]\n",
            " [False False False]\n",
            " [False False False]]\n",
            "array:\n",
            " [[1 2 3]\n",
            " [4 5 6]]\n",
            "array:\n",
            " [[1]\n",
            " [2]\n",
            " [3]\n",
            " [4]\n",
            " [5]\n",
            " [6]] shape: (6, 1)\n",
            "1D-arange: [ 0  1  2  3  4  5  6  7  8  9 10 11 12 13 14 15 16 17 18 19]\n",
            "arange with spacing of 10 elements: [  0  10  20  30  40  50  60  70  80  90 100]\n",
            "linspace: [  0.  10.  20.  30.  40.  50.  60.  70.  80.  90. 100.]\n",
            "linspace: [  0   9  18  27  36  45  54  63  72  81  90 100]\n",
            "random:\n",
            " [[[0.13612775 0.07959092]\n",
            "  [0.268575   0.5279469 ]]\n",
            "\n",
            " [[0.84985141 0.04035009]\n",
            "  [0.67835352 0.65688554]]]\n",
            "type\n",
            "\n",
            "<class 'numpy.ndarray'> <class 'numpy.ndarray'> <class 'numpy.ndarray'> <class 'numpy.ndarray'> <class 'numpy.ndarray'> <class 'numpy.ndarray'> <class 'numpy.ndarray'>\n",
            "shape\n",
            "\n",
            "(5, 5) (3, 3) (2, 3) (20,) (11,) (12,) (2, 2, 2)\n",
            "empty:\n",
            " [[[1.         1.         0.8        1.        ]\n",
            "  [1.         0.92941176 0.62745098 1.        ]\n",
            "  [0.99607843 0.85098039 0.4627451  1.        ]]\n",
            "\n",
            " [[0.99607843 0.69803922 0.29803922 1.        ]\n",
            "  [0.99215686 0.55294118 0.23529412 1.        ]\n",
            "  [0.98823529 0.30588235 0.16470588 1.        ]]\n",
            "\n",
            " [[0.89019608 0.10196078 0.10980392 1.        ]\n",
            "  [0.74117647 0.         0.14901961 1.        ]\n",
            "  [0.50196078 0.         0.14901961 1.        ]]]\n",
            "full:\n",
            " [[10 10 10 10 10]\n",
            " [10 10 10 10 10]]\n",
            "identity:\n",
            " [[1. 0. 0. 0. 0.]\n",
            " [0. 1. 0. 0. 0.]\n",
            " [0. 0. 1. 0. 0.]\n",
            " [0. 0. 0. 1. 0.]\n",
            " [0. 0. 0. 0. 1.]]\n",
            "float64 bool int64 int64 int64 int64 float64 float64 int64 float64\n"
          ]
        }
      ],
      "source": [
        "import numpy as np\n",
        "\n",
        "#float datatype\n",
        "a=np.ones((5,5))\n",
        "print('ones:\\n',a)\n",
        "\n",
        "y=np.zeros((3,3))# only permitted values in the matrix are True and False,initial matrix is zero matrix\n",
        "print('zeros:\\n',y)\n",
        "\n",
        "b=np.zeros((3,3),dtype=bool)# only permitted values in the matrix are True and False,initial matrix is zero matrix\n",
        "print('zeros:\\n',b)\n",
        "\n",
        "c=np.array([[1,2,3],[4,5,6]])\n",
        "print('array:\\n',c)\n",
        "\n",
        "x=np.array([[1],[2],[3],[4],[5],[6]])\n",
        "print('array:\\n',x,'shape:',x.shape)\n",
        "\n",
        "d=np.arange(20)#1D array\n",
        "print('1D-arange:',d)\n",
        "\n",
        "e=np.arange(0,101,10)# 3 rd parameter stands for step size , default =1\n",
        "print('arange with spacing of 10 elements:',e)\n",
        "\n",
        "\n",
        "#Ending element is inclusive\n",
        "f=np.linspace(0,100,11)# 3rd parameter stands for number of elements\n",
        "print('linspace:',f)\n",
        "\n",
        "f=np.linspace(0,100,12,dtype=int)# 3rd parameter stands for number of elements , default - float\n",
        "print('linspace:',f)\n",
        "\n",
        "# Floating point values\n",
        "g=np.random.random((2,2,2))\n",
        "print('random:\\n',g)\n",
        "\n",
        "print('type\\n')\n",
        "print(type(a),type(b),type(c),type(d),type(e),type(f),type(g))\n",
        "\n",
        "print('shape\\n')\n",
        "print(a.shape,b.shape,c.shape,d.shape,e.shape,f.shape,g.shape)\n",
        "\n",
        "emp=np.empty((3,3,4))\n",
        "print('empty:\\n',emp)\n",
        "\n",
        "ful=np.full((2,5),10)\n",
        "print('full:\\n',ful)\n",
        "\n",
        "iden=np.identity(5)\n",
        "print('identity:\\n',iden)\n",
        "\n",
        "print(a.dtype,b.dtype,c.dtype,d.dtype,e.dtype,f.dtype,g.dtype,emp.dtype,ful.dtype,iden.dtype)\n"
      ]
    },
    {
      "cell_type": "code",
      "source": [
        "a=np.array([[1,2,3],[4,5,6]])\n",
        "print(a.shape,len(a),a.ndim)\n",
        "\n",
        "#gives no. of rows along x-axis\n",
        "print(np.size(a, 0))\n",
        "\n",
        "#gives no. of columns along y-axis\n",
        "print(np.size(a, 1))\n",
        "\n",
        "b=np.ones((2,3))\n",
        "print(b.dtype)\n",
        "temp = b.astype(int)\n",
        "print(temp.dtype)"
      ],
      "metadata": {
        "id": "0Te1bdDQlgGr",
        "colab": {
          "base_uri": "https://localhost:8080/"
        },
        "outputId": "7fa9f52f-432c-4a32-d99e-0d71211f2276"
      },
      "execution_count": null,
      "outputs": [
        {
          "output_type": "stream",
          "name": "stdout",
          "text": [
            "(2, 3) 2 2\n",
            "2\n",
            "3\n",
            "float64\n",
            "int64\n"
          ]
        }
      ]
    },
    {
      "cell_type": "code",
      "source": [
        "arr = np.array([[1.0,0,2],[0,1,0],[0,0,1]])\n",
        "arr1 = np.array([[1.0,0,3],[0,1,0],[0,0,1]])\n",
        "\n",
        "print('multiply scalar:\\n',10*arr)\n",
        "print('add:\\n',arr+arr1)\n",
        "print('element wise mult:\\n',arr*arr1)#Element by element\n",
        "print('reciprocal:\\n',1/arr)\n",
        "\n",
        "print('add:\\n',np.add(arr,arr1))\n",
        "print('subtract:\\n',np.subtract(arr,arr1))\n",
        "print('multiply:\\n',np.multiply(arr,arr1))\n",
        "print('division:\\n',np.divide(arr,arr1))\n"
      ],
      "metadata": {
        "colab": {
          "base_uri": "https://localhost:8080/"
        },
        "id": "C-ViiLrfwKLF",
        "outputId": "5a5aee48-6230-4e2c-be62-c793fefb04b8"
      },
      "execution_count": null,
      "outputs": [
        {
          "output_type": "stream",
          "name": "stdout",
          "text": [
            "multiply scalar:\n",
            " [[10.  0. 20.]\n",
            " [ 0. 10.  0.]\n",
            " [ 0.  0. 10.]]\n",
            "add:\n",
            " [[2. 0. 5.]\n",
            " [0. 2. 0.]\n",
            " [0. 0. 2.]]\n",
            "element wise mult:\n",
            " [[1. 0. 6.]\n",
            " [0. 1. 0.]\n",
            " [0. 0. 1.]]\n",
            "reciprocal:\n",
            " [[1.  inf 0.5]\n",
            " [inf 1.  inf]\n",
            " [inf inf 1. ]]\n",
            "add:\n",
            " [[2. 0. 5.]\n",
            " [0. 2. 0.]\n",
            " [0. 0. 2.]]\n",
            "subtract:\n",
            " [[ 0.  0. -1.]\n",
            " [ 0.  0.  0.]\n",
            " [ 0.  0.  0.]]\n",
            "multiply:\n",
            " [[1. 0. 6.]\n",
            " [0. 1. 0.]\n",
            " [0. 0. 1.]]\n",
            "division:\n",
            " [[1.                nan 0.66666667]\n",
            " [       nan 1.                nan]\n",
            " [       nan        nan 1.        ]]\n"
          ]
        },
        {
          "output_type": "stream",
          "name": "stderr",
          "text": [
            "<ipython-input-20-f25e72494c22>:7: RuntimeWarning: divide by zero encountered in divide\n",
            "  print('reciprocal:\\n',1/arr)\n",
            "<ipython-input-20-f25e72494c22>:12: RuntimeWarning: invalid value encountered in divide\n",
            "  print('division:\\n',np.divide(arr,arr1))\n"
          ]
        }
      ]
    },
    {
      "cell_type": "code",
      "source": [
        "# DOT for n dim array does matrix multiplication\n",
        "# DOT for 1 dim array does dot product\n",
        "# numpy class , methof\n",
        "\n",
        "a=np.array([1,2,3])\n",
        "print('exp:',np.exp(a))\n",
        "print('sqrt:',np.sqrt(a))\n",
        "print('log:',np.log(a))\n",
        "print('sin:',np.sin(a))\n",
        "\n",
        "\n",
        "arr = np.array([[1.0,0,2],[0,1,0],[0,0,1]])\n",
        "arr1 = np.array([[1.0,0,3],[0,1,0],[0,0,1]])\n",
        "\n",
        "print(np.dot(a,arr))# Row by Row dot product when matrix dimensions don't match\n"
      ],
      "metadata": {
        "colab": {
          "base_uri": "https://localhost:8080/"
        },
        "id": "GYS7DsYUxykN",
        "outputId": "18297668-8cba-4b42-96ec-d2bdbd7b075b"
      },
      "execution_count": null,
      "outputs": [
        {
          "output_type": "stream",
          "name": "stdout",
          "text": [
            "exp: [ 2.71828183  7.3890561  20.08553692]\n",
            "sqrt: [1.         1.41421356 1.73205081]\n",
            "log: [0.         0.69314718 1.09861229]\n",
            "sin: [0.84147098 0.90929743 0.14112001]\n",
            "[1. 2. 5.]\n"
          ]
        }
      ]
    },
    {
      "cell_type": "code",
      "source": [
        "import numpy as np\n",
        "\n",
        "a = np.array([[1, 2], [3, 4]])\n",
        "b = np.array([[5, 6]])\n",
        "print(np.concatenate((a, b), axis=0))\n",
        "# array([[1, 2],\n",
        "#        [3, 4],\n",
        "#        [5, 6]])\n",
        "#print(np.concatenate((a, b.T), axis=0))\n",
        "#Throws Error\n",
        "#all the input array dimensions for the concatenation axis must match exactly,\n",
        "# but along dimension 1, the array at index 0 has size 2 and the array at index 1 has size 1\n",
        "print(np.concatenate((a, b.T), axis=1))\n",
        "# array([[1, 2, 5],\n",
        "#        [3, 4, 6]])\n",
        "print(np.concatenate((a, b), axis=None))\n",
        "# array([1, 2, 3, 4, 5, 6])"
      ],
      "metadata": {
        "id": "0NyW4hutzK-k",
        "colab": {
          "base_uri": "https://localhost:8080/",
          "height": 331
        },
        "outputId": "7f9d5e55-dc6a-4645-c00c-2e544ed46772"
      },
      "execution_count": 3,
      "outputs": [
        {
          "output_type": "stream",
          "name": "stdout",
          "text": [
            "[[1 2]\n",
            " [3 4]\n",
            " [5 6]]\n"
          ]
        },
        {
          "output_type": "error",
          "ename": "ValueError",
          "evalue": "all the input array dimensions for the concatenation axis must match exactly, but along dimension 1, the array at index 0 has size 2 and the array at index 1 has size 1",
          "traceback": [
            "\u001b[0;31m---------------------------------------------------------------------------\u001b[0m",
            "\u001b[0;31mValueError\u001b[0m                                Traceback (most recent call last)",
            "\u001b[0;32m<ipython-input-3-119f8b30e5db>\u001b[0m in \u001b[0;36m<cell line: 9>\u001b[0;34m()\u001b[0m\n\u001b[1;32m      7\u001b[0m \u001b[0;31m#        [3, 4],\u001b[0m\u001b[0;34m\u001b[0m\u001b[0;34m\u001b[0m\u001b[0m\n\u001b[1;32m      8\u001b[0m \u001b[0;31m#        [5, 6]])\u001b[0m\u001b[0;34m\u001b[0m\u001b[0;34m\u001b[0m\u001b[0m\n\u001b[0;32m----> 9\u001b[0;31m \u001b[0mprint\u001b[0m\u001b[0;34m(\u001b[0m\u001b[0mnp\u001b[0m\u001b[0;34m.\u001b[0m\u001b[0mconcatenate\u001b[0m\u001b[0;34m(\u001b[0m\u001b[0;34m(\u001b[0m\u001b[0ma\u001b[0m\u001b[0;34m,\u001b[0m \u001b[0mb\u001b[0m\u001b[0;34m.\u001b[0m\u001b[0mT\u001b[0m\u001b[0;34m)\u001b[0m\u001b[0;34m,\u001b[0m \u001b[0maxis\u001b[0m\u001b[0;34m=\u001b[0m\u001b[0;36m0\u001b[0m\u001b[0;34m)\u001b[0m\u001b[0;34m)\u001b[0m\u001b[0;34m\u001b[0m\u001b[0;34m\u001b[0m\u001b[0m\n\u001b[0m\u001b[1;32m     10\u001b[0m \u001b[0mprint\u001b[0m\u001b[0;34m(\u001b[0m\u001b[0mnp\u001b[0m\u001b[0;34m.\u001b[0m\u001b[0mconcatenate\u001b[0m\u001b[0;34m(\u001b[0m\u001b[0;34m(\u001b[0m\u001b[0ma\u001b[0m\u001b[0;34m,\u001b[0m \u001b[0mb\u001b[0m\u001b[0;34m.\u001b[0m\u001b[0mT\u001b[0m\u001b[0;34m)\u001b[0m\u001b[0;34m,\u001b[0m \u001b[0maxis\u001b[0m\u001b[0;34m=\u001b[0m\u001b[0;36m1\u001b[0m\u001b[0;34m)\u001b[0m\u001b[0;34m)\u001b[0m\u001b[0;34m\u001b[0m\u001b[0;34m\u001b[0m\u001b[0m\n\u001b[1;32m     11\u001b[0m \u001b[0;31m# array([[1, 2, 5],\u001b[0m\u001b[0;34m\u001b[0m\u001b[0;34m\u001b[0m\u001b[0m\n",
            "\u001b[0;32m/usr/local/lib/python3.10/dist-packages/numpy/core/overrides.py\u001b[0m in \u001b[0;36mconcatenate\u001b[0;34m(*args, **kwargs)\u001b[0m\n",
            "\u001b[0;31mValueError\u001b[0m: all the input array dimensions for the concatenation axis must match exactly, but along dimension 1, the array at index 0 has size 2 and the array at index 1 has size 1"
          ]
        }
      ]
    },
    {
      "cell_type": "code",
      "source": [
        "a=np.array([[1,2,3],[2,3,4]])\n",
        "print(a,a.shape)\n",
        "i = np.transpose(a) #Takes transpose\n",
        "print(i,i.shape)"
      ],
      "metadata": {
        "colab": {
          "base_uri": "https://localhost:8080/"
        },
        "id": "iQQ4fRNfOg5H",
        "outputId": "f76ce779-b1da-46a7-99f1-2f8314d4a146"
      },
      "execution_count": null,
      "outputs": [
        {
          "output_type": "stream",
          "name": "stdout",
          "text": [
            "[[1 2 3]\n",
            " [2 3 4]] (2, 3)\n",
            "[[1 2]\n",
            " [2 3]\n",
            " [3 4]] (3, 2)\n"
          ]
        }
      ]
    },
    {
      "cell_type": "code",
      "source": [
        "b=a.ravel() #Flatten the array - Doesn't work on the function , creates a new array\n",
        "print(a)\n",
        "print(b)\n",
        "c=a.reshape(3, 2) #Reshape, but don’t change data\n",
        "print(a)\n",
        "print(c)"
      ],
      "metadata": {
        "colab": {
          "base_uri": "https://localhost:8080/"
        },
        "id": "uFV0TW69Pnkz",
        "outputId": "bf1b7142-564b-4c1d-dc02-d6293977d213"
      },
      "execution_count": null,
      "outputs": [
        {
          "output_type": "stream",
          "name": "stdout",
          "text": [
            "[[1 2 3]\n",
            " [2 3 4]]\n",
            "[1 2 3 2 3 4]\n",
            "[[1 2 3]\n",
            " [2 3 4]]\n",
            "[[1 2]\n",
            " [3 2]\n",
            " [3 4]]\n"
          ]
        }
      ]
    },
    {
      "cell_type": "code",
      "source": [
        "# # iloc doesn't include last element , loc does\n",
        "a=np.array([[1,2,3],[2,3,4]])\n",
        "print('a:\\n',a)\n",
        "e=a.resize((3,2)) #Return a new array with shape(2,6) - Inplace return!!!\n",
        "print('a:\\n',a)\n",
        "print('e:\\n',e)# None\n",
        "b=np.insert(a,3,5)  #Insert items in an array\n",
        "print('a:\\n',a)\n",
        "print('b:\\n',b)\n",
        "c=np.delete(a,1)  #Delete items from an array\n",
        "print('a:\\n',a)\n",
        "print('c:\\n',c)"
      ],
      "metadata": {
        "colab": {
          "base_uri": "https://localhost:8080/"
        },
        "id": "XGOb6gHlQG5r",
        "outputId": "8ddfcc43-b29f-4fbf-fbbc-46de091bb102"
      },
      "execution_count": null,
      "outputs": [
        {
          "output_type": "stream",
          "name": "stdout",
          "text": [
            "a:\n",
            " [[1 2 3]\n",
            " [2 3 4]]\n",
            "a:\n",
            " [[1 2]\n",
            " [3 2]\n",
            " [3 4]]\n",
            "e:\n",
            " None\n",
            "a:\n",
            " [[1 2]\n",
            " [3 2]\n",
            " [3 4]]\n",
            "b:\n",
            " [1 2 3 5 2 3 4]\n",
            "a:\n",
            " [[1 2]\n",
            " [3 2]\n",
            " [3 4]]\n",
            "c:\n",
            " [1 3 2 3 4]\n"
          ]
        }
      ]
    },
    {
      "cell_type": "code",
      "source": [
        "#mean\n",
        "a = np.array([[1,8,3], [7,5,6]])\n",
        "print('mean of all the elemenets:',np.mean(a))# Will give the mean of all the elemenets\n",
        "print('mean of elements along column:',np.mean(a, axis=0))# Will give the mean of elements along a column\n",
        "print('mean of elements along a row:',np.mean(a, axis=1))# WIll give the mean of elements along a row\n",
        "\n",
        "#sum\n",
        "#Similar to mean\n",
        "print('sum:',np.sum([0.5,0.5,0.5,1.5], dtype=np.int32,initial = 100))# first converted to int data type then added , with initial value of 100\n",
        "\n",
        "#min and max\n",
        "print('min:',np.min(a,axis=1, keepdims = True),'\\nmax:',np.max(a))\n",
        "#keepdims function will force the output to have the same dimensions as the input array.\n",
        "\n",
        "# to find the Index of the Minimum Value Column-Wise\n",
        "print('argmin:',np.argmin(a, axis=0))\n"
      ],
      "metadata": {
        "id": "kEiUDBUuTAe1",
        "colab": {
          "base_uri": "https://localhost:8080/"
        },
        "outputId": "25c9907b-f5aa-4434-d633-96f7347f7c81"
      },
      "execution_count": 14,
      "outputs": [
        {
          "output_type": "stream",
          "name": "stdout",
          "text": [
            "mean of all the elemenets: 5.0\n",
            "mean of elements along a row: [4.  6.5 4.5]\n",
            "mean of elements along a column: [4. 6.]\n",
            "sum: 101\n",
            "min: [[1]\n",
            " [5]] \n",
            "max: 8\n",
            "argmin: [0 1 0]\n"
          ]
        }
      ]
    },
    {
      "cell_type": "code",
      "source": [
        "#random\n",
        "print(np.random.randint(5, size=(2,3)))\n",
        "print(np.random.randint(1, [4, 5, 20]))# 1 x 3 array with 3  upper bounds\n",
        "print(np.random.randint([1, 5, 6],10))# 1 x 3 array with 3 lower  bounds\n",
        "\n",
        "print(np.random.randn())# Returns a sample (or samples) from the “standard normal” distribution"
      ],
      "metadata": {
        "colab": {
          "base_uri": "https://localhost:8080/"
        },
        "id": "ayyy1JFCMN-H",
        "outputId": "98f54ac6-bed6-414f-bed8-f63fd630b798"
      },
      "execution_count": 17,
      "outputs": [
        {
          "output_type": "stream",
          "name": "stdout",
          "text": [
            "[[4 2 1]\n",
            " [3 2 4]]\n",
            "[ 3  4 17]\n",
            "[1 6 6]\n",
            "-1.696422580459484\n"
          ]
        }
      ]
    },
    {
      "cell_type": "code",
      "source": [],
      "metadata": {
        "id": "EFxzMXrVSoKR"
      },
      "execution_count": null,
      "outputs": []
    }
  ]
}